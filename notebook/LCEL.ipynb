{
 "cells": [
  {
   "cell_type": "code",
   "execution_count": 1,
   "id": "98f67434-022a-4564-8849-9eee1be6c970",
   "metadata": {},
   "outputs": [],
   "source": [
    "import langchain"
   ]
  },
  {
   "cell_type": "markdown",
   "id": "aa3ad25f-3f7a-41b4-9800-732b2e82f12e",
   "metadata": {},
   "source": [
    "## Use of RunnableLambda"
   ]
  },
  {
   "cell_type": "code",
   "execution_count": 2,
   "id": "e958a2dc-a93f-48ff-b01a-e43bea25348b",
   "metadata": {},
   "outputs": [],
   "source": [
    "from langchain_core.output_parsers import StrOutputParser\n",
    "from langchain_core.prompts import ChatPromptTemplate\n",
    "from langchain_openai import ChatOpenAI"
   ]
  },
  {
   "cell_type": "code",
   "execution_count": 3,
   "id": "1a9f0add-3ef0-48d5-9c56-b7211e3ef0cd",
   "metadata": {},
   "outputs": [],
   "source": [
    "prompt = ChatPromptTemplate.from_messages(\n",
    "    [\n",
    "        (\"system\", \"You are a helpful assistant\"),\n",
    "        (\"human\", \"{input}\")\n",
    "    ]\n",
    ")\n",
    "\n",
    "llm = ChatOpenAI(model=\"gpt-4o-mini\", temperature = 0)"
   ]
  },
  {
   "cell_type": "code",
   "execution_count": 10,
   "id": "6934abac-41bd-4a0e-b24f-22304bf2c162",
   "metadata": {},
   "outputs": [],
   "source": [
    "def count_chars(text: str):\n",
    "    return f\"{text}: charlen = {len(text)}\""
   ]
  },
  {
   "cell_type": "code",
   "execution_count": 13,
   "id": "92bd297c-f607-4a54-b6a1-a18b1fa2e02d",
   "metadata": {},
   "outputs": [
    {
     "data": {
      "text/plain": [
       "'As of my last knowledge update in October 2023, the current President of the United States is Joe Biden. He has been in office since January 20, 2021. Please verify with up-to-date sources, as my information may not reflect the most current events.: charlen = 248'"
      ]
     },
     "execution_count": 13,
     "metadata": {},
     "output_type": "execute_result"
    }
   ],
   "source": [
    "from langchain_core.runnables import RunnableLambda\n",
    "chain = prompt | llm | StrOutputParser() | RunnableLambda(count_chars)\n",
    "# chain.invoke(input = \"Who's the current US president?\")\n",
    "chain.invoke({\"input\": \"Who's the current US president?\"})"
   ]
  },
  {
   "cell_type": "code",
   "execution_count": null,
   "id": "52c8041b-8e0b-4f03-9447-fc36d31f2a27",
   "metadata": {},
   "outputs": [],
   "source": []
  }
 ],
 "metadata": {
  "kernelspec": {
   "display_name": "ragcsv",
   "language": "python",
   "name": "ragcsv"
  },
  "language_info": {
   "codemirror_mode": {
    "name": "ipython",
    "version": 3
   },
   "file_extension": ".py",
   "mimetype": "text/x-python",
   "name": "python",
   "nbconvert_exporter": "python",
   "pygments_lexer": "ipython3",
   "version": "3.11.4"
  }
 },
 "nbformat": 4,
 "nbformat_minor": 5
}
